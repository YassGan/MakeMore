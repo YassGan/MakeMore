{
  "nbformat": 4,
  "nbformat_minor": 0,
  "metadata": {
    "colab": {
      "provenance": [],
      "authorship_tag": "ABX9TyONmSaSSK917GMvxvXmyfzy",
      "include_colab_link": true
    },
    "kernelspec": {
      "name": "python3",
      "display_name": "Python 3"
    },
    "language_info": {
      "name": "python"
    }
  },
  "cells": [
    {
      "cell_type": "markdown",
      "metadata": {
        "id": "view-in-github",
        "colab_type": "text"
      },
      "source": [
        "<a href=\"https://colab.research.google.com/github/YassGan/MakeMore/blob/main/makemore.ipynb\" target=\"_parent\"><img src=\"https://colab.research.google.com/assets/colab-badge.svg\" alt=\"Open In Colab\"/></a>"
      ]
    },
    {
      "cell_type": "code",
      "execution_count": null,
      "metadata": {
        "id": "b3gU-feS17oX"
      },
      "outputs": [],
      "source": [
        "names=open(\"names.txt\",\"r\").read().splitlines()\n",
        "\n",
        "names=names[:5]"
      ]
    },
    {
      "cell_type": "code",
      "source": [
        "for w in names[:1]:\n",
        "    print(w)\n",
        "    for ch1, ch2 in zip(w, w[1:]):\n",
        "        print(ch1, ch2)"
      ],
      "metadata": {
        "colab": {
          "base_uri": "https://localhost:8080/"
        },
        "id": "nko6Lizw4L1G",
        "outputId": "923c41d5-38bd-4eec-94f0-5fa5506b6a54"
      },
      "execution_count": null,
      "outputs": [
        {
          "output_type": "stream",
          "name": "stdout",
          "text": [
            "emma\n",
            "e m\n",
            "m m\n",
            "m a\n"
          ]
        }
      ]
    }
  ]
}